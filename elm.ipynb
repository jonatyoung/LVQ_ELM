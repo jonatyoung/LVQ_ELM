{
 "cells": [
  {
   "cell_type": "code",
   "execution_count": 1,
   "metadata": {},
   "outputs": [],
   "source": [
    "import numpy as np\n",
    "import pandas as pd\n",
    "from sklearn.model_selection import train_test_split\n",
    "from sklearn.preprocessing import StandardScaler\n",
    "from sklearn.metrics import accuracy_score,classification_report\n",
    "from sklearn.preprocessing import LabelEncoder"
   ]
  },
  {
   "cell_type": "code",
   "execution_count": 2,
   "metadata": {},
   "outputs": [],
   "source": [
    "class ELM:\n",
    "    def __init__(self, n_hidden_neurons=10, activation_function='sigmoid'):\n",
    "        self.n_hidden_neurons = n_hidden_neurons\n",
    "        self.activation_function = activation_function\n",
    "        self.W = None  # Bobot input ke lapisan tersembunyi\n",
    "        self.B = None  # Bobot output dari lapisan tersembunyi\n",
    "\n",
    "    def _activation(self, X):\n",
    "        if self.activation_function == 'sigmoid':\n",
    "            return 1 / (1 + np.exp(-X))\n",
    "        elif self.activation_function == 'tanh':\n",
    "            return np.tanh(X)\n",
    "        elif self.activation_function == 'relu':\n",
    "            return np.maximum(0, X)\n",
    "        else:\n",
    "            raise ValueError(\"Unsupported activation function\")\n",
    "\n",
    "    def fit(self, X_train, y_train):\n",
    "        # Menghitung bobot input ke lapisan tersembunyi secara acak\n",
    "        n_samples, n_features = X_train.shape\n",
    "        self.W = np.random.randn(n_features, self.n_hidden_neurons)  # Bobot input ke lapisan tersembunyi\n",
    "        self.B = np.random.randn(self.n_hidden_neurons)  # Bias lapisan tersembunyi\n",
    "\n",
    "        # Menghitung aktivasi lapisan tersembunyi\n",
    "        H = self._activation(X_train.dot(self.W) + self.B)\n",
    "\n",
    "        # Hitung bobot output menggunakan metode analitik\n",
    "        self.beta = np.linalg.pinv(H).dot(y_train)\n",
    "\n",
    "    def predict(self, X_test):\n",
    "        # Menghitung aktivasi lapisan tersembunyi untuk data uji\n",
    "        H_test = self._activation(X_test.dot(self.W) + self.B)\n",
    "\n",
    "        # Prediksi hasil output\n",
    "        y_pred = H_test.dot(self.beta)\n",
    "        return y_pred\n"
   ]
  },
  {
   "cell_type": "code",
   "execution_count": 3,
   "metadata": {},
   "outputs": [],
   "source": [
    "# Memuat dataset dan mempersiapkan data\n",
    "df = pd.read_csv(\"./data/fitness_tracker_dataset.csv\").drop(columns=[\"user_id\",\"date\"])\n",
    "\n",
    "# Mengonversi nilai boolean menjadi 0 dan 1\n",
    "X = pd.get_dummies(df[df.columns[:-1]], drop_first=True).astype(int)\n",
    "y = df[\"mood\"]"
   ]
  },
  {
   "cell_type": "code",
   "execution_count": 4,
   "metadata": {},
   "outputs": [],
   "source": [
    "# Label encoding untuk target\n",
    "le = LabelEncoder()\n",
    "y_encoded = le.fit_transform(y)\n",
    "\n",
    "# Membagi data menjadi data latih dan uji\n",
    "X_train, X_test, y_train, y_test = train_test_split(X, y_encoded, test_size=0.2, random_state=42)\n",
    "\n",
    "# Menormalisasi data\n",
    "scaler = StandardScaler()\n",
    "X_train = scaler.fit_transform(X_train)\n",
    "X_test = scaler.transform(X_test)"
   ]
  },
  {
   "cell_type": "code",
   "execution_count": 5,
   "metadata": {},
   "outputs": [],
   "source": [
    "# Inisialisasi model ELM dan melatih model\n",
    "elm = ELM(n_hidden_neurons=100, activation_function='sigmoid')\n",
    "elm.fit(X_train, y_train)"
   ]
  },
  {
   "cell_type": "code",
   "execution_count": 6,
   "metadata": {},
   "outputs": [],
   "source": [
    "# Menguji model dan menghitung akurasi\n",
    "y_pred = elm.predict(X_test)\n",
    "y_pred = np.round(y_pred).astype(int)  # Membulatkan prediksi ke nilai integer (0 atau 1)"
   ]
  },
  {
   "cell_type": "code",
   "execution_count": 7,
   "metadata": {},
   "outputs": [
    {
     "name": "stdout",
     "output_type": "stream",
     "text": [
      "Accuracy: 25.00%\n"
     ]
    }
   ],
   "source": [
    "accuracy = accuracy_score(y_test, y_pred)\n",
    "print(f'Accuracy: {accuracy * 100:.2f}%')"
   ]
  },
  {
   "cell_type": "code",
   "execution_count": 8,
   "metadata": {},
   "outputs": [
    {
     "name": "stdout",
     "output_type": "stream",
     "text": [
      "              precision    recall  f1-score   support\n",
      "\n",
      "           0       0.00      0.00      0.00     49997\n",
      "           1       0.25      0.54      0.34     50079\n",
      "           2       0.25      0.46      0.32     49886\n",
      "           3       0.00      0.00      0.00     50038\n",
      "\n",
      "    accuracy                           0.25    200000\n",
      "   macro avg       0.12      0.25      0.17    200000\n",
      "weighted avg       0.12      0.25      0.17    200000\n",
      "\n"
     ]
    },
    {
     "name": "stderr",
     "output_type": "stream",
     "text": [
      "c:\\Users\\jonat\\AppData\\Local\\Programs\\Python\\Python312\\Lib\\site-packages\\sklearn\\metrics\\_classification.py:1509: UndefinedMetricWarning: Precision is ill-defined and being set to 0.0 in labels with no predicted samples. Use `zero_division` parameter to control this behavior.\n",
      "  _warn_prf(average, modifier, f\"{metric.capitalize()} is\", len(result))\n",
      "c:\\Users\\jonat\\AppData\\Local\\Programs\\Python\\Python312\\Lib\\site-packages\\sklearn\\metrics\\_classification.py:1509: UndefinedMetricWarning: Precision is ill-defined and being set to 0.0 in labels with no predicted samples. Use `zero_division` parameter to control this behavior.\n",
      "  _warn_prf(average, modifier, f\"{metric.capitalize()} is\", len(result))\n",
      "c:\\Users\\jonat\\AppData\\Local\\Programs\\Python\\Python312\\Lib\\site-packages\\sklearn\\metrics\\_classification.py:1509: UndefinedMetricWarning: Precision is ill-defined and being set to 0.0 in labels with no predicted samples. Use `zero_division` parameter to control this behavior.\n",
      "  _warn_prf(average, modifier, f\"{metric.capitalize()} is\", len(result))\n"
     ]
    }
   ],
   "source": [
    "print(classification_report(y_test,y_pred))"
   ]
  },
  {
   "cell_type": "code",
   "execution_count": null,
   "metadata": {},
   "outputs": [],
   "source": []
  }
 ],
 "metadata": {
  "kernelspec": {
   "display_name": "Python 3",
   "language": "python",
   "name": "python3"
  },
  "language_info": {
   "codemirror_mode": {
    "name": "ipython",
    "version": 3
   },
   "file_extension": ".py",
   "mimetype": "text/x-python",
   "name": "python",
   "nbconvert_exporter": "python",
   "pygments_lexer": "ipython3",
   "version": "3.12.3"
  }
 },
 "nbformat": 4,
 "nbformat_minor": 2
}
