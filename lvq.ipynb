{
 "cells": [
  {
   "cell_type": "code",
   "execution_count": 1,
   "metadata": {},
   "outputs": [],
   "source": [
    "import numpy as np\n",
    "import pandas as pd\n",
    "from sklearn.model_selection import train_test_split\n",
    "from sklearn.preprocessing import LabelEncoder\n",
    "from sklearn.metrics import accuracy_score,classification_report\n",
    "from sklearn.preprocessing import StandardScaler"
   ]
  },
  {
   "cell_type": "code",
   "execution_count": 2,
   "metadata": {},
   "outputs": [],
   "source": [
    "# Contoh memuat dataset dan melakukan one-hot encoding\n",
    "df = pd.read_csv(\"./data/fitness_tracker_dataset.csv\").drop(columns=[\"user_id\",\"date\"])\n",
    "\n",
    "# Mengubah nilai boolean menjadi 0 dan 1\n",
    "x = pd.get_dummies(df[df.columns[:-1]], drop_first=True)\n",
    "# Mengonversi semua nilai boolean di dalam DataFrame x menjadi 0 dan 1\n",
    "x = x.astype(int)\n",
    "y = df[\"mood\"]"
   ]
  },
  {
   "cell_type": "code",
   "execution_count": 3,
   "metadata": {},
   "outputs": [],
   "source": [
    "# Label encoding untuk target\n",
    "le = LabelEncoder()\n",
    "y_encoded = le.fit_transform(y)\n",
    "\n",
    "# Membagi data menjadi data latih dan uji\n",
    "x_train, x_test, y_train, y_test = train_test_split(x, y_encoded, test_size=0.2, random_state=42)"
   ]
  },
  {
   "cell_type": "code",
   "execution_count": 4,
   "metadata": {},
   "outputs": [],
   "source": [
    "def euclidean_distance(x1, x2):\n",
    "    return np.sqrt(np.sum((x1 - x2) ** 2))"
   ]
  },
  {
   "cell_type": "code",
   "execution_count": null,
   "metadata": {},
   "outputs": [],
   "source": [
    "class LVQ:\n",
    "    def __init__(self, n_prototypes_per_class=1, learning_rate=0.1, max_iter=100, clip_value=1e6):\n",
    "        self.n_prototypes_per_class = n_prototypes_per_class\n",
    "        self.learning_rate = learning_rate\n",
    "        self.max_iter = max_iter\n",
    "        self.prototypes = []  # Menyimpan prototipe (setiap prototipe berisi [vektor fitur, kelas])\n",
    "        self.clip_value = clip_value  # Batas untuk pembaruan prototipe\n",
    "    \n",
    "    def fit(self, X_train, y_train):\n",
    "        # Jika y_train adalah numpy.ndarray, konversi menjadi pandas Series\n",
    "        if isinstance(y_train, np.ndarray):\n",
    "            y_train = pd.Series(y_train)\n",
    "        \n",
    "        # Normalisasi data\n",
    "        scaler = StandardScaler()\n",
    "        X_train = scaler.fit_transform(X_train)\n",
    "        \n",
    "        # Reset indeks untuk memastikan konsistensi\n",
    "        X_train = pd.DataFrame(X_train)  # Pastikan X_train dalam bentuk DataFrame\n",
    "        X_train = X_train.reset_index(drop=True)\n",
    "        y_train = y_train.reset_index(drop=True)\n",
    "        \n",
    "        classes = np.unique(y_train)\n",
    "        for c in classes:\n",
    "            # Pilih secara acak data untuk setiap kelas sebagai prototipe awal\n",
    "            class_data = X_train[y_train == c]\n",
    "            for i in range(self.n_prototypes_per_class):\n",
    "                prototype = class_data.iloc[np.random.choice(class_data.shape[0])]\n",
    "                self.prototypes.append([prototype.values.astype(np.float64), c])  # Mengonversi prototipe ke float64\n",
    "        \n",
    "        # Training LVQ\n",
    "        for _ in range(self.max_iter):\n",
    "            print(f\"epoch : {_}\")\n",
    "            for i in range(X_train.shape[0]):\n",
    "                x = X_train.iloc[i].values.astype(np.float64)  # Ubah x menjadi float64\n",
    "                y_true = y_train.iloc[i]  # Kelas sebenarnya\n",
    "                \n",
    "                # Cari prototipe terdekat\n",
    "                distances = [euclidean_distance(x, prototype[0]) for prototype in self.prototypes]\n",
    "                closest_prototype_idx = np.argmin(distances)\n",
    "                closest_prototype, closest_class = self.prototypes[closest_prototype_idx]\n",
    "                \n",
    "                # Update prototipe berdasarkan apakah kelas sama atau tidak\n",
    "                if closest_class == y_true:\n",
    "                    # Pindahkan prototipe mendekati data\n",
    "                    self.prototypes[closest_prototype_idx][0] += self.learning_rate * (x - closest_prototype)\n",
    "                else:\n",
    "                    # Pindahkan prototipe menjauh dari data\n",
    "                    self.prototypes[closest_prototype_idx][0] -= self.learning_rate * (x - closest_prototype)\n",
    "\n",
    "                # Pembatasan pada pembaruan prototipe\n",
    "                self.prototypes[closest_prototype_idx][0] = np.clip(self.prototypes[closest_prototype_idx][0], -self.clip_value, self.clip_value)\n",
    "    \n",
    "    def predict(self, X_test):\n",
    "        # Normalisasi data uji\n",
    "        scaler = StandardScaler()\n",
    "        X_test = scaler.fit_transform(X_test)\n",
    "        \n",
    "        X_test = pd.DataFrame(X_test)  # convart x_test ke dataframe\n",
    "        X_test = X_test.reset_index(drop=True)\n",
    "        predictions = []\n",
    "        for i in range(X_test.shape[0]):\n",
    "            x = X_test.iloc[i].values.astype(np.float64)  # convert x menjadi float64\n",
    "            \n",
    "            # Cari prototipe terdekat\n",
    "            distances = [euclidean_distance(x, prototype[0]) for prototype in self.prototypes]\n",
    "            closest_prototype_idx = np.argmin(distances)\n",
    "            closest_class = self.prototypes[closest_prototype_idx][1]\n",
    "            \n",
    "            predictions.append(closest_class)\n",
    "        \n",
    "        return np.array(predictions)\n"
   ]
  },
  {
   "cell_type": "code",
   "execution_count": 6,
   "metadata": {},
   "outputs": [
    {
     "name": "stdout",
     "output_type": "stream",
     "text": [
      "epoch : 0\n",
      "epoch : 1\n",
      "epoch : 2\n",
      "epoch : 3\n",
      "epoch : 4\n",
      "epoch : 5\n",
      "epoch : 6\n",
      "epoch : 7\n",
      "epoch : 8\n",
      "epoch : 9\n",
      "Accuracy: 25.00%\n"
     ]
    }
   ],
   "source": [
    "lvq = LVQ(n_prototypes_per_class=1, learning_rate=0.1, max_iter=10)\n",
    "# Melatih model dengan data latih\n",
    "lvq.fit(x_train, y_train)\n",
    "\n",
    "# Menguji model dengan data uji\n",
    "y_pred = lvq.predict(x_test)\n",
    "\n",
    "# Menghitung akurasi\n",
    "accuracy = accuracy_score(y_test, y_pred)\n",
    "print(f'Accuracy: {accuracy * 100:.2f}%')"
   ]
  },
  {
   "cell_type": "code",
   "execution_count": null,
   "metadata": {},
   "outputs": [],
   "source": [
    "print(classification_report(y_test,y_pred))"
   ]
  }
 ],
 "metadata": {
  "kernelspec": {
   "display_name": "Python 3",
   "language": "python",
   "name": "python3"
  },
  "language_info": {
   "codemirror_mode": {
    "name": "ipython",
    "version": 3
   },
   "file_extension": ".py",
   "mimetype": "text/x-python",
   "name": "python",
   "nbconvert_exporter": "python",
   "pygments_lexer": "ipython3",
   "version": "3.12.3"
  }
 },
 "nbformat": 4,
 "nbformat_minor": 2
}
